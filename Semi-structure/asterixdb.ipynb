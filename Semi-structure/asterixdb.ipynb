{
 "cells": [
  {
   "cell_type": "markdown",
   "source": [
    "\n"
   ],
   "metadata": {
    "collapsed": false
   },
   "id": "8b7e63f34a53c8e2"
  },
  {
   "cell_type": "code",
   "execution_count": 1,
   "outputs": [],
   "source": [
    "from urllib import parse, request\n",
    "from json import loads\n",
    "\n",
    "class QueryResponse:\n",
    "    def __init__(self, raw_response):\n",
    "        self._json = loads(raw_response)\n",
    "\n",
    "        self.requestID = self._json['requestID'] if 'requestID' in self._json else None\n",
    "        self.clientContextID = self._json['clientContextID'] if 'clientContextID' in self._json else None\n",
    "        self.signature = self._json['signature'] if 'signature' in self._json else None\n",
    "        self.results = self._json['results'] if 'results' in self. _json else None\n",
    "        self.metrics = self._json['metrics'] if 'metrics' in self._json else None\n",
    "\n",
    "class AsterixConnection:\n",
    "    def __init__(self, server = 'http://localhost', port = 19002):\n",
    "        self._server = server\n",
    "        self._port = port\n",
    "        self._url_base = self._server +':'+ str(port)\n",
    "\n",
    "    def query(self, statement, pretty=False, client_context_id=None):\n",
    "        endpoint = '/query/service'\n",
    "\n",
    "        url = self._url_base + endpoint\n",
    "\n",
    "        payload = {\n",
    "            'statement': statement,\n",
    "            'pretty': pretty\n",
    "        }\n",
    "\n",
    "        if client_context_id:\n",
    "            payload['client_context_id'] = client_context_id\n",
    "\n",
    "        data = parse.urlencode(payload).encode(\"utf-8\")\n",
    "        req = request.Request(url, data)\n",
    "        response = request.urlopen(req).read()\n",
    "\n",
    "        return QueryResponse(response)\n",
    "\n",
    "\n"
   ],
   "metadata": {
    "collapsed": false,
    "ExecuteTime": {
     "end_time": "2023-09-07T17:17:51.973802Z",
     "start_time": "2023-09-07T17:17:51.966618Z"
    }
   },
   "id": "4374dc969eb1a88c"
  },
  {
   "cell_type": "markdown",
   "source": [
    "### Query Select"
   ],
   "metadata": {
    "collapsed": false
   },
   "id": "78c06f3dc88adb5e"
  },
  {
   "cell_type": "code",
   "execution_count": 2,
   "outputs": [
    {
     "name": "stdout",
     "output_type": "stream",
     "text": [
      "[{'id': 2, 'alias': 'Isbel', 'name': 'IsbelDull', 'userSince': '2011-01-22T10:10:00.000', 'friendIds': [1, 4], 'employment': [{'organizationName': 'Hexviafind', 'startDate': '2010-04-27'}], 'nickname': 'Izzy'}, {'id': 3, 'alias': 'Emory', 'name': 'EmoryUnk', 'userSince': '2012-07-10T10:10:00.000', 'friendIds': [1, 5, 8, 9], 'employment': [{'organizationName': 'geomedia', 'startDate': '2010-06-17', 'endDate': '2010-01-26'}]}, {'id': 4, 'alias': 'Nicholas', 'name': 'NicholasStroh', 'userSince': '2010-12-27T10:10:00.000', 'friendIds': [2], 'employment': [{'organizationName': 'Zamcorporation', 'startDate': '2010-06-08'}]}]\n"
     ]
    }
   ],
   "source": [
    "if __name__ == '__main__':\n",
    "    asterix_conn = AsterixConnection()\n",
    "    response = asterix_conn.query('''\n",
    "          USE TinySocial;\n",
    "          SELECT VALUE user FROM GleambookUsers user WHERE user.id >= 2 AND user.id <= 4;''')\n",
    "\n",
    "    print(response.results)"
   ],
   "metadata": {
    "collapsed": false,
    "ExecuteTime": {
     "end_time": "2023-09-07T17:17:55.596667Z",
     "start_time": "2023-09-07T17:17:55.529214Z"
    }
   },
   "id": "84ef560bb2f3899b"
  },
  {
   "cell_type": "code",
   "execution_count": 4,
   "outputs": [
    {
     "name": "stdout",
     "output_type": "stream",
     "text": [
      "[{'id': 2, 'alias': 'Isbel', 'name': 'IsbelDull', 'userSince': '2011-01-22T10:10:00.000', 'friendIds': [1, 4], 'employment': [{'organizationName': 'Hexviafind', 'startDate': '2010-04-27'}], 'nickname': 'Izzy'}, {'id': 3, 'alias': 'Emory', 'name': 'EmoryUnk', 'userSince': '2012-07-10T10:10:00.000', 'friendIds': [1, 5, 8, 9], 'employment': [{'organizationName': 'geomedia', 'startDate': '2010-06-17', 'endDate': '2010-01-26'}]}, {'id': 4, 'alias': 'Nicholas', 'name': 'NicholasStroh', 'userSince': '2010-12-27T10:10:00.000', 'friendIds': [2], 'employment': [{'organizationName': 'Zamcorporation', 'startDate': '2010-06-08'}]}]\n"
     ]
    }
   ],
   "source": [
    "response = asterix_conn.query('''\n",
    "          USE TinySocial;\n",
    "          SELECT VALUE user FROM GleambookUsers user WHERE user.id >= 2 AND user.id <= 4;''')\n",
    "\n",
    "print(response.results)"
   ],
   "metadata": {
    "collapsed": false,
    "ExecuteTime": {
     "end_time": "2023-09-07T17:12:36.005989Z",
     "start_time": "2023-09-07T17:12:35.941643Z"
    }
   },
   "id": "91dde7149e282917"
  },
  {
   "cell_type": "code",
   "execution_count": 5,
   "outputs": [
    {
     "name": "stdout",
     "output_type": "stream",
     "text": [
      "[{'id': 10, 'alias': 'Bram', 'name': 'BramHatch', 'userSince': '2010-10-16T10:10:00.000', 'friendIds': [1, 5, 9], 'employment': [{'organizationName': 'physcane', 'startDate': '2007-06-05', 'endDate': '2011-11-05'}]}, {'id': 2, 'alias': 'Isbel', 'name': 'IsbelDull', 'userSince': '2011-01-22T10:10:00.000', 'friendIds': [1, 4], 'employment': [{'organizationName': 'Hexviafind', 'startDate': '2010-04-27'}], 'nickname': 'Izzy'}, {'id': 3, 'alias': 'Emory', 'name': 'EmoryUnk', 'userSince': '2012-07-10T10:10:00.000', 'friendIds': [1, 5, 8, 9], 'employment': [{'organizationName': 'geomedia', 'startDate': '2010-06-17', 'endDate': '2010-01-26'}]}, {'id': 4, 'alias': 'Nicholas', 'name': 'NicholasStroh', 'userSince': '2010-12-27T10:10:00.000', 'friendIds': [2], 'employment': [{'organizationName': 'Zamcorporation', 'startDate': '2010-06-08'}]}]\n"
     ]
    }
   ],
   "source": [
    "response = asterix_conn.query('''\n",
    "            USE TinySocial;\n",
    "            SELECT VALUE user FROM GleambookUsers user WHERE user.userSince >= datetime('2010-07-22T00:00:00') AND user.userSince <= datetime('2012-07-29T23:59:59');''')\n",
    "\n",
    "print(response.results)"
   ],
   "metadata": {
    "collapsed": false,
    "ExecuteTime": {
     "end_time": "2023-09-07T17:12:37.450935Z",
     "start_time": "2023-09-07T17:12:37.311314Z"
    }
   },
   "id": "691ac6e6a1235ce"
  },
  {
   "cell_type": "markdown",
   "source": [
    "### Equijoin \n"
   ],
   "metadata": {
    "collapsed": false
   },
   "id": "f0f30098c4385759"
  },
  {
   "cell_type": "code",
   "execution_count": 6,
   "outputs": [
    {
     "name": "stdout",
     "output_type": "stream",
     "text": [
      "[{'uname': 'WillisWynne', 'message': ' love product-b the customization is mind-blowing'}, {'uname': 'WoodrowNehling', 'message': ' love acast its 3G is good:)'}, {'uname': 'BramHatch', 'message': ' dislike x-phone the voice-command is bad:('}, {'uname': 'BramHatch', 'message': \" can't stand product-z its voicemail-service is OMG:(\"}, {'uname': 'MargaritaStoddard', 'message': ' like ccast the 3G is awesome:)'}, {'uname': 'MargaritaStoddard', 'message': \" can't stand product-w the touch-screen is terrible\"}, {'uname': 'MargaritaStoddard', 'message': \" can't stand acast its plan is terrible\"}, {'uname': 'MargaritaStoddard', 'message': ' dislike x-phone its touch-screen is horrible'}, {'uname': 'MargaritaStoddard', 'message': \" can't stand acast the network is horrible:(\"}, {'uname': 'IsbelDull', 'message': ' like product-z its platform is mind-blowing'}, {'uname': 'IsbelDull', 'message': ' like product-y the plan is amazing'}, {'uname': 'EmoryUnk', 'message': ' love ccast its wireless is good'}, {'uname': 'EmoryUnk', 'message': ' love product-b its shortcut-menu is awesome:)'}, {'uname': 'VonKemble', 'message': ' dislike product-b the speed is horrible'}, {'uname': 'SuzannaTillson', 'message': ' like x-phone the voicemail-service is awesome'}]\n"
     ]
    }
   ],
   "source": [
    "response = asterix_conn.query('''\n",
    "            USE TinySocial;\n",
    "\n",
    "    SELECT user.name AS uname, msg.message AS message\n",
    "    FROM GleambookUsers user, GleambookMessages msg\n",
    "    WHERE msg.authorId = user.id;''')\n",
    "\n",
    "print(response.results)"
   ],
   "metadata": {
    "collapsed": false,
    "ExecuteTime": {
     "end_time": "2023-09-07T17:12:39.988664Z",
     "start_time": "2023-09-07T17:12:39.819197Z"
    }
   },
   "id": "b7af620d0f79ba21"
  },
  {
   "cell_type": "code",
   "execution_count": 7,
   "outputs": [
    {
     "name": "stdout",
     "output_type": "stream",
     "text": [
      "[{'uname': 'IsbelDull', 'message': ' like product-z its platform is mind-blowing'}, {'uname': 'MargaritaStoddard', 'message': ' like ccast the 3G is awesome:)'}, {'uname': 'EmoryUnk', 'message': ' love ccast its wireless is good'}, {'uname': 'MargaritaStoddard', 'message': \" can't stand product-w the touch-screen is terrible\"}, {'uname': 'MargaritaStoddard', 'message': \" can't stand acast its plan is terrible\"}, {'uname': 'BramHatch', 'message': \" can't stand product-z its voicemail-service is OMG:(\"}, {'uname': 'WoodrowNehling', 'message': ' love acast its 3G is good:)'}, {'uname': 'EmoryUnk', 'message': ' love product-b its shortcut-menu is awesome:)'}, {'uname': 'MargaritaStoddard', 'message': ' dislike x-phone its touch-screen is horrible'}, {'uname': 'IsbelDull', 'message': ' like product-y the plan is amazing'}, {'uname': 'MargaritaStoddard', 'message': \" can't stand acast the network is horrible:(\"}, {'uname': 'WillisWynne', 'message': ' love product-b the customization is mind-blowing'}, {'uname': 'VonKemble', 'message': ' dislike product-b the speed is horrible'}, {'uname': 'BramHatch', 'message': ' dislike x-phone the voice-command is bad:('}, {'uname': 'SuzannaTillson', 'message': ' like x-phone the voicemail-service is awesome'}]\n"
     ]
    }
   ],
   "source": [
    "response = asterix_conn.query('''\n",
    "           USE TinySocial;\n",
    "\n",
    "    SELECT user.name AS uname, msg.message AS message\n",
    "    FROM GleambookUsers user, GleambookMessages msg\n",
    "    WHERE msg.authorId /*+ indexnl */ = user.id;''')\n",
    "\n",
    "print(response.results)"
   ],
   "metadata": {
    "collapsed": false,
    "ExecuteTime": {
     "end_time": "2023-09-07T17:12:41.065926Z",
     "start_time": "2023-09-07T17:12:40.954254Z"
    }
   },
   "id": "916b71328409e6fd"
  },
  {
   "cell_type": "markdown",
   "source": [],
   "metadata": {
    "collapsed": false
   },
   "id": "8236d331301227c8"
  },
  {
   "cell_type": "code",
   "execution_count": 8,
   "outputs": [],
   "source": [
    "### Nested Outerjoin "
   ],
   "metadata": {
    "collapsed": false,
    "ExecuteTime": {
     "end_time": "2023-09-07T17:12:43.401823Z",
     "start_time": "2023-09-07T17:12:43.391655Z"
    }
   },
   "id": "e91adaeee792938c"
  },
  {
   "cell_type": "code",
   "execution_count": 9,
   "outputs": [
    {
     "name": "stdout",
     "output_type": "stream",
     "text": [
      "[{'uname': 'WillisWynne', 'messages': [' love product-b the customization is mind-blowing']}, {'uname': 'NilaMilliron', 'messages': []}, {'uname': 'WoodrowNehling', 'messages': [' love acast its 3G is good:)']}, {'uname': 'BramHatch', 'messages': [\" can't stand product-z its voicemail-service is OMG:(\", ' dislike x-phone the voice-command is bad:(']}, {'uname': 'MargaritaStoddard', 'messages': [' like ccast the 3G is awesome:)', \" can't stand product-w the touch-screen is terrible\", \" can't stand acast its plan is terrible\", ' dislike x-phone its touch-screen is horrible', \" can't stand acast the network is horrible:(\"]}, {'uname': 'IsbelDull', 'messages': [' like product-z its platform is mind-blowing', ' like product-y the plan is amazing']}, {'uname': 'EmoryUnk', 'messages': [' love ccast its wireless is good', ' love product-b its shortcut-menu is awesome:)']}, {'uname': 'NicholasStroh', 'messages': []}, {'uname': 'VonKemble', 'messages': [' dislike product-b the speed is horrible']}, {'uname': 'SuzannaTillson', 'messages': [' like x-phone the voicemail-service is awesome']}]\n"
     ]
    }
   ],
   "source": [
    "response = asterix_conn.query('''\n",
    "           USE TinySocial;\n",
    "\n",
    "    SELECT user.name AS uname,\n",
    "           (SELECT VALUE msg.message\n",
    "            FROM GleambookMessages msg\n",
    "            WHERE msg.authorId = user.id) AS messages\n",
    "    FROM GleambookUsers user;;''')\n",
    "\n",
    "print(response.results)"
   ],
   "metadata": {
    "collapsed": false,
    "ExecuteTime": {
     "end_time": "2023-09-07T17:12:44.403199Z",
     "start_time": "2023-09-07T17:12:44.183338Z"
    }
   },
   "id": "b5578ed657ff125c"
  },
  {
   "cell_type": "code",
   "execution_count": 10,
   "outputs": [],
   "source": [
    "### Theta Join "
   ],
   "metadata": {
    "collapsed": false,
    "ExecuteTime": {
     "end_time": "2023-09-07T17:12:45.251728Z",
     "start_time": "2023-09-07T17:12:45.240615Z"
    }
   },
   "id": "f54ce418fa9ed3c2"
  },
  {
   "cell_type": "code",
   "execution_count": 11,
   "outputs": [
    {
     "name": "stdout",
     "output_type": "stream",
     "text": [
      "[{'message': \" can't stand x-phone its platform is terrible\", 'nearbyMessages': []}, {'message': ' like ccast its shortcut-menu is awesome:)', 'nearbyMessages': []}, {'message': ' like product-w the speed is good:)', 'nearbyMessages': [' hate ccast its voice-clarity is OMG:(']}, {'message': ' like product-b the voice-command is mind-blowing:)', 'nearbyMessages': []}, {'message': ' like x-phone the voice-clarity is good:)', 'nearbyMessages': []}, {'message': ' like product-y the platform is good', 'nearbyMessages': []}, {'message': ' love ccast its voicemail-service is awesome', 'nearbyMessages': []}, {'message': ' love product-z its customization is good:)', 'nearbyMessages': []}, {'message': ' hate ccast its voice-clarity is OMG:(', 'nearbyMessages': []}, {'message': ' like product-y the voice-command is amazing:)', 'nearbyMessages': []}, {'message': \" can't stand product-w its speed is terrible:(\", 'nearbyMessages': []}, {'message': ' like product-z the shortcut-menu is awesome:)', 'nearbyMessages': []}]\n"
     ]
    }
   ],
   "source": [
    "response = asterix_conn.query('''\n",
    "          USE TinySocial;\n",
    "\n",
    "    SELECT cm1.messageText AS message,\n",
    "           (SELECT VALUE cm2.messageText\n",
    "            FROM ChirpMessages cm2\n",
    "            WHERE `spatial-distance`(cm1.senderLocation, cm2.senderLocation) <= 1\n",
    "              AND cm2.chirpId < cm1.chirpId) AS nearbyMessages\n",
    "    FROM ChirpMessages cm1;''')\n",
    "\n",
    "print(response.results)"
   ],
   "metadata": {
    "collapsed": false,
    "ExecuteTime": {
     "end_time": "2023-09-07T17:12:46.111332Z",
     "start_time": "2023-09-07T17:12:45.999157Z"
    }
   },
   "id": "61e3dc8481f70cbc"
  },
  {
   "cell_type": "markdown",
   "source": [
    "### Fuzzy Join\n"
   ],
   "metadata": {
    "collapsed": false
   },
   "id": "e0dd654dbafd9f1e"
  },
  {
   "cell_type": "code",
   "execution_count": 12,
   "outputs": [
    {
     "name": "stdout",
     "output_type": "stream",
     "text": [
      "[{'id': 6, 'name': 'WillisWynne', 'similarUsers': []}, {'id': 8, 'name': 'NilaMilliron', 'similarUsers': [{'chirpScreenname': 'NilaMilliron_tw', 'chirpName': 'Nila Milliron'}]}, {'id': 9, 'name': 'WoodrowNehling', 'similarUsers': []}, {'id': 10, 'name': 'BramHatch', 'similarUsers': []}, {'id': 1, 'name': 'MargaritaStoddard', 'similarUsers': []}, {'id': 2, 'name': 'IsbelDull', 'similarUsers': []}, {'id': 3, 'name': 'EmoryUnk', 'similarUsers': []}, {'id': 4, 'name': 'NicholasStroh', 'similarUsers': []}, {'id': 5, 'name': 'VonKemble', 'similarUsers': []}, {'id': 7, 'name': 'SuzannaTillson', 'similarUsers': []}]\n"
     ]
    }
   ],
   "source": [
    "response = asterix_conn.query('''\n",
    "             USE TinySocial;\n",
    "    SET simfunction \"edit-distance\";\n",
    "    SET simthreshold \"3\";\n",
    "\n",
    "    SELECT gbu.id AS id, gbu.name AS name,\n",
    "           (SELECT cm.user.screenName AS chirpScreenname,\n",
    "                   cm.user.name AS chirpName\n",
    "            FROM ChirpMessages cm\n",
    "            WHERE cm.user.name ~= gbu.name) AS similarUsers\n",
    "    FROM GleambookUsers gbu;''')\n",
    "\n",
    "print(response.results)"
   ],
   "metadata": {
    "collapsed": false,
    "ExecuteTime": {
     "end_time": "2023-09-07T17:12:48.030918Z",
     "start_time": "2023-09-07T17:12:47.916246Z"
    }
   },
   "id": "2439696c6ea3f9b9"
  },
  {
   "cell_type": "markdown",
   "source": [
    "### Grouping and Aggregation\n"
   ],
   "metadata": {
    "collapsed": false
   },
   "id": "823711db032b327e"
  },
  {
   "cell_type": "code",
   "execution_count": 13,
   "outputs": [
    {
     "name": "stdout",
     "output_type": "stream",
     "text": [
      "[{'user': 'ChangEwing_573', 'count': 1}, {'user': 'OliJackson_512', 'count': 1}, {'user': 'ColineGeyer@63', 'count': 3}, {'user': 'NathanGiesen@211', 'count': 6}, {'user': 'NilaMilliron_tw', 'count': 1}]\n"
     ]
    }
   ],
   "source": [
    "response = asterix_conn.query('''\n",
    "             USE TinySocial;\n",
    "\n",
    "    SELECT uid AS user, COUNT(cm) AS count\n",
    "    FROM ChirpMessages cm\n",
    "    GROUP BY cm.user.screenName AS uid;''')\n",
    "\n",
    "print(response.results)"
   ],
   "metadata": {
    "collapsed": false,
    "ExecuteTime": {
     "end_time": "2023-09-07T17:12:50.412488Z",
     "start_time": "2023-09-07T17:12:50.282589Z"
    }
   },
   "id": "dde5ed27c4890a91"
  },
  {
   "cell_type": "code",
   "execution_count": null,
   "outputs": [],
   "source": [],
   "metadata": {
    "collapsed": false
   },
   "id": "d7632b45d3a90634"
  }
 ],
 "metadata": {
  "kernelspec": {
   "display_name": "Python 3",
   "language": "python",
   "name": "python3"
  },
  "language_info": {
   "codemirror_mode": {
    "name": "ipython",
    "version": 2
   },
   "file_extension": ".py",
   "mimetype": "text/x-python",
   "name": "python",
   "nbconvert_exporter": "python",
   "pygments_lexer": "ipython2",
   "version": "2.7.6"
  }
 },
 "nbformat": 4,
 "nbformat_minor": 5
}
