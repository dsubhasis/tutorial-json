{
 "cells": [
  {
   "cell_type": "markdown",
   "source": [
    "### Query Select\n"
   ],
   "metadata": {
    "collapsed": false
   },
   "id": "8b7e63f34a53c8e2"
  },
  {
   "cell_type": "code",
   "execution_count": 11,
   "outputs": [],
   "source": [
    "from urllib import parse, request\n",
    "from json import loads\n",
    "\n",
    "class QueryResponse:\n",
    "    def __init__(self, raw_response):\n",
    "        self._json = loads(raw_response)\n",
    "\n",
    "        self.requestID = self._json['requestID'] if 'requestID' in self._json else None\n",
    "        self.clientContextID = self._json['clientContextID'] if 'clientContextID' in self._json else None\n",
    "        self.signature = self._json['signature'] if 'signature' in self._json else None\n",
    "        self.results = self._json['results'] if 'results' in self. _json else None\n",
    "        self.metrics = self._json['metrics'] if 'metrics' in self._json else None\n",
    "\n",
    "class AsterixConnection:\n",
    "    def __init__(self, server = 'http://localhost', port = 19002):\n",
    "        self._server = server\n",
    "        self._port = port\n",
    "        self._url_base = self._server +':'+ str(port)\n",
    "\n",
    "    def query(self, statement, pretty=False, client_context_id=None):\n",
    "        endpoint = '/query/service'\n",
    "\n",
    "        url = self._url_base + endpoint\n",
    "\n",
    "        payload = {\n",
    "            'statement': statement,\n",
    "            'pretty': pretty\n",
    "        }\n",
    "\n",
    "        if client_context_id:\n",
    "            payload['client_context_id'] = client_context_id\n",
    "\n",
    "        data = parse.urlencode(payload).encode(\"utf-8\")\n",
    "        req = request.Request(url, data)\n",
    "        response = request.urlopen(req).read()\n",
    "\n",
    "        return QueryResponse(response)\n",
    "\n",
    "\n"
   ],
   "metadata": {
    "collapsed": false,
    "ExecuteTime": {
     "end_time": "2023-09-06T05:34:00.701377Z",
     "start_time": "2023-09-06T05:34:00.693719Z"
    }
   },
   "id": "4374dc969eb1a88c"
  },
  {
   "cell_type": "code",
   "execution_count": 12,
   "outputs": [
    {
     "name": "stdout",
     "output_type": "stream",
     "text": [
      "[{'id': 2, 'alias': 'Isbel', 'name': 'IsbelDull', 'userSince': '2011-01-22T10:10:00.000', 'friendIds': [1, 4], 'employment': [{'organizationName': 'Hexviafind', 'startDate': '2010-04-27'}], 'nickname': 'Izzy'}, {'id': 3, 'alias': 'Emory', 'name': 'EmoryUnk', 'userSince': '2012-07-10T10:10:00.000', 'friendIds': [1, 5, 8, 9], 'employment': [{'organizationName': 'geomedia', 'startDate': '2010-06-17', 'endDate': '2010-01-26'}]}, {'id': 4, 'alias': 'Nicholas', 'name': 'NicholasStroh', 'userSince': '2010-12-27T10:10:00.000', 'friendIds': [2], 'employment': [{'organizationName': 'Zamcorporation', 'startDate': '2010-06-08'}]}]\n"
     ]
    }
   ],
   "source": [
    "if __name__ == '__main__':\n",
    "    asterix_conn = AsterixConnection()\n",
    "    response = asterix_conn.query('''\n",
    "          USE TinySocial;\n",
    "          SELECT VALUE user FROM GleambookUsers user WHERE user.id >= 2 AND user.id <= 4;''')\n",
    "\n",
    "    print(response.results)"
   ],
   "metadata": {
    "collapsed": false,
    "ExecuteTime": {
     "end_time": "2023-09-06T05:34:57.754113Z",
     "start_time": "2023-09-06T05:34:57.673820Z"
    }
   },
   "id": "84ef560bb2f3899b"
  },
  {
   "cell_type": "markdown",
   "source": [
    "    USE TinySocial;\n",
    "\n",
    "    SELECT VALUE user\n",
    "    FROM GleambookUsers user\n",
    "    WHERE user.id = 8;"
   ],
   "metadata": {
    "collapsed": false
   },
   "id": "78c06f3dc88adb5e"
  },
  {
   "cell_type": "code",
   "execution_count": 13,
   "outputs": [
    {
     "name": "stdout",
     "output_type": "stream",
     "text": [
      "[{'id': 2, 'alias': 'Isbel', 'name': 'IsbelDull', 'userSince': '2011-01-22T10:10:00.000', 'friendIds': [1, 4], 'employment': [{'organizationName': 'Hexviafind', 'startDate': '2010-04-27'}], 'nickname': 'Izzy'}, {'id': 3, 'alias': 'Emory', 'name': 'EmoryUnk', 'userSince': '2012-07-10T10:10:00.000', 'friendIds': [1, 5, 8, 9], 'employment': [{'organizationName': 'geomedia', 'startDate': '2010-06-17', 'endDate': '2010-01-26'}]}, {'id': 4, 'alias': 'Nicholas', 'name': 'NicholasStroh', 'userSince': '2010-12-27T10:10:00.000', 'friendIds': [2], 'employment': [{'organizationName': 'Zamcorporation', 'startDate': '2010-06-08'}]}]\n"
     ]
    }
   ],
   "source": [
    "response = asterix_conn.query('''\n",
    "          USE TinySocial;\n",
    "          SELECT VALUE user FROM GleambookUsers user WHERE user.id >= 2 AND user.id <= 4;''')\n",
    "\n",
    "print(response.results)"
   ],
   "metadata": {
    "collapsed": false,
    "ExecuteTime": {
     "end_time": "2023-09-06T05:35:31.956130Z",
     "start_time": "2023-09-06T05:35:31.890836Z"
    }
   },
   "id": "91dde7149e282917"
  },
  {
   "cell_type": "code",
   "execution_count": 16,
   "outputs": [
    {
     "name": "stdout",
     "output_type": "stream",
     "text": [
      "[{'id': 10, 'alias': 'Bram', 'name': 'BramHatch', 'userSince': '2010-10-16T10:10:00.000', 'friendIds': [1, 5, 9], 'employment': [{'organizationName': 'physcane', 'startDate': '2007-06-05', 'endDate': '2011-11-05'}]}, {'id': 2, 'alias': 'Isbel', 'name': 'IsbelDull', 'userSince': '2011-01-22T10:10:00.000', 'friendIds': [1, 4], 'employment': [{'organizationName': 'Hexviafind', 'startDate': '2010-04-27'}], 'nickname': 'Izzy'}, {'id': 3, 'alias': 'Emory', 'name': 'EmoryUnk', 'userSince': '2012-07-10T10:10:00.000', 'friendIds': [1, 5, 8, 9], 'employment': [{'organizationName': 'geomedia', 'startDate': '2010-06-17', 'endDate': '2010-01-26'}]}, {'id': 4, 'alias': 'Nicholas', 'name': 'NicholasStroh', 'userSince': '2010-12-27T10:10:00.000', 'friendIds': [2], 'employment': [{'organizationName': 'Zamcorporation', 'startDate': '2010-06-08'}]}]\n"
     ]
    }
   ],
   "source": [
    "response = asterix_conn.query('''\n",
    "            USE TinySocial;\n",
    "            SELECT VALUE user FROM GleambookUsers user WHERE user.userSince >= datetime('2010-07-22T00:00:00') AND user.userSince <= datetime('2012-07-29T23:59:59');''')\n",
    "\n",
    "print(response.results)"
   ],
   "metadata": {
    "collapsed": false,
    "ExecuteTime": {
     "end_time": "2023-09-06T05:37:34.775746Z",
     "start_time": "2023-09-06T05:37:34.672689Z"
    }
   },
   "id": "691ac6e6a1235ce"
  },
  {
   "cell_type": "markdown",
   "source": [
    "### Equijoin \n"
   ],
   "metadata": {
    "collapsed": false
   },
   "id": "f0f30098c4385759"
  },
  {
   "cell_type": "code",
   "execution_count": 17,
   "outputs": [
    {
     "name": "stdout",
     "output_type": "stream",
     "text": [
      "[{'uname': 'WillisWynne', 'message': ' love product-b the customization is mind-blowing'}, {'uname': 'WoodrowNehling', 'message': ' love acast its 3G is good:)'}, {'uname': 'BramHatch', 'message': \" can't stand product-z its voicemail-service is OMG:(\"}, {'uname': 'BramHatch', 'message': ' dislike x-phone the voice-command is bad:('}, {'uname': 'MargaritaStoddard', 'message': ' like ccast the 3G is awesome:)'}, {'uname': 'MargaritaStoddard', 'message': \" can't stand product-w the touch-screen is terrible\"}, {'uname': 'MargaritaStoddard', 'message': \" can't stand acast its plan is terrible\"}, {'uname': 'MargaritaStoddard', 'message': ' dislike x-phone its touch-screen is horrible'}, {'uname': 'MargaritaStoddard', 'message': \" can't stand acast the network is horrible:(\"}, {'uname': 'IsbelDull', 'message': ' like product-z its platform is mind-blowing'}, {'uname': 'IsbelDull', 'message': ' like product-y the plan is amazing'}, {'uname': 'EmoryUnk', 'message': ' love ccast its wireless is good'}, {'uname': 'EmoryUnk', 'message': ' love product-b its shortcut-menu is awesome:)'}, {'uname': 'VonKemble', 'message': ' dislike product-b the speed is horrible'}, {'uname': 'SuzannaTillson', 'message': ' like x-phone the voicemail-service is awesome'}]\n"
     ]
    }
   ],
   "source": [
    "response = asterix_conn.query('''\n",
    "            USE TinySocial;\n",
    "\n",
    "    SELECT user.name AS uname, msg.message AS message\n",
    "    FROM GleambookUsers user, GleambookMessages msg\n",
    "    WHERE msg.authorId = user.id;''')\n",
    "\n",
    "print(response.results)"
   ],
   "metadata": {
    "collapsed": false,
    "ExecuteTime": {
     "end_time": "2023-09-06T05:41:10.686626Z",
     "start_time": "2023-09-06T05:41:10.490451Z"
    }
   },
   "id": "b7af620d0f79ba21"
  },
  {
   "cell_type": "code",
   "execution_count": null,
   "outputs": [],
   "source": [],
   "metadata": {
    "collapsed": false
   },
   "id": "916b71328409e6fd"
  }
 ],
 "metadata": {
  "kernelspec": {
   "display_name": "Python 3",
   "language": "python",
   "name": "python3"
  },
  "language_info": {
   "codemirror_mode": {
    "name": "ipython",
    "version": 2
   },
   "file_extension": ".py",
   "mimetype": "text/x-python",
   "name": "python",
   "nbconvert_exporter": "python",
   "pygments_lexer": "ipython2",
   "version": "2.7.6"
  }
 },
 "nbformat": 4,
 "nbformat_minor": 5
}
