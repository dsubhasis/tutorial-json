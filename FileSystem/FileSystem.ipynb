{
 "cells": [
  {
   "cell_type": "code",
   "execution_count": 45,
   "id": "initial_id",
   "metadata": {
    "collapsed": true,
    "ExecuteTime": {
     "end_time": "2023-09-04T17:58:28.055451Z",
     "start_time": "2023-09-04T17:58:28.047201Z"
    }
   },
   "outputs": [],
   "source": [
    "# !pip install --upgrade jsonpath-ng"
   ]
  },
  {
   "cell_type": "markdown",
   "source": [
    "\n",
    "### Loading JSON Data \n",
    "To load JSON data from a file located in the Data/Files directory, you can use the Python 'json' library. \n",
    "The file format can either be a single JSON record or a set of ==JSON records== separated by a line.\n",
    "```python:\n",
    "\n",
    "     import json \n",
    "     chripMessage = json.load(f)\n",
    "```"
   ],
   "metadata": {
    "collapsed": false
   },
   "id": "9bb04409aaa2e091"
  },
  {
   "cell_type": "code",
   "execution_count": 39,
   "outputs": [],
   "source": [
    "import json\n",
    "\n",
    "import pandas as pd\n",
    "\n",
    "with open(\"/Users/subhasis/Documents/MLData-class/Data/Files/ChirpMessages.json\") as f:\n",
    "    chripMessage = json.load(f)\n",
    "\n",
    "with open(\"/Users/subhasis/Documents/MLData-class/Data/Files/GleambookMessages.json\") as f:\n",
    "    GleambookMessages = json.load(f)   \n",
    "    \n",
    "with open(\"/Users/subhasis/Documents/MLData-class/Data/Files/ChirpUsers.json\") as f:\n",
    "    ChirpUsers = json.load(f)   \n",
    "\n",
    "with open(\"/Users/subhasis/Documents/MLData-class/Data/Files/GleambookUsers.json\") as f:\n",
    "    GleambookUsers = json.load(f)       "
   ],
   "metadata": {
    "collapsed": false,
    "ExecuteTime": {
     "end_time": "2023-09-07T04:37:34.553869Z",
     "start_time": "2023-09-07T04:37:34.500568Z"
    }
   },
   "id": "52ff488fc6c68123"
  },
  {
   "cell_type": "code",
   "execution_count": 40,
   "outputs": [
    {
     "name": "stdout",
     "output_type": "stream",
     "text": [
      "{'chirpId': '1', 'user': {'screenName': 'NathanGiesen@211', 'lang': 'en', 'friendsCount': 39339, 'statusesCount': 473, 'name': 'Nathan Giesen', 'followersCount': 49416}, 'senderLocation': '47.44,80.65', 'sendTime': '2008-04-26T10:10:00', 'referredTopics': ['product-z', 'customization'], 'messageText': ' love product-z its customization is good:)'}\n",
      "{'chirpId': '2', 'user': {'screenName': 'ColineGeyer@63', 'lang': 'en', 'friendsCount': 121, 'statusesCount': 362, 'name': 'Coline Geyer', 'followersCount': 17159}, 'senderLocation': '32.84,67.14', 'sendTime': '2010-05-13T10:10:00', 'referredTopics': ['ccast', 'shortcut-menu'], 'messageText': ' like ccast its shortcut-menu is awesome:)'}\n",
      "{'chirpId': '3', 'user': {'screenName': 'NathanGiesen@211', 'lang': 'en', 'friendsCount': 39339, 'statusesCount': 473, 'name': 'Nathan Giesen', 'followersCount': 49416}, 'senderLocation': '29.72,75.8', 'sendTime': '2006-11-04T10:10:00', 'referredTopics': ['product-w', 'speed'], 'messageText': 'like product-w the speed is good:)'}\n",
      "{'chirpId': '4', 'user': {'screenName': 'NathanGiesen@211', 'lang': 'en', 'friendsCount': 39339, 'statusesCount': 473, 'name': 'Nathan Giesen', 'followersCount': 49416}, 'senderLocation': '39.28,70.48', 'sendTime': '2011-12-26T10:10:00', 'referredTopics': ['product-b', 'voice-command'], 'messageText': ' like product-b the voice-command is mind-blowing:)'}\n",
      "{'chirpId': '5', 'user': {'screenName': 'NathanGiesen@211', 'lang': 'en', 'friendsCount': 39339, 'statusesCount': 473, 'name': 'Nathan Giesen', 'followersCount': 49416}, 'senderLocation': '40.09,92.69', 'sendTime': '2006-08-04T10:10:00', 'referredTopics': ['product-w', 'speed'], 'messageText': \" can't stand product-w its speed is terrible:(\"}\n",
      "{'chirpId': '6', 'user': {'screenName': 'ColineGeyer@63', 'lang': 'en', 'friendsCount': 121, 'statusesCount': 362, 'name': 'Coline Geyer', 'followersCount': 17159}, 'senderLocation': '47.51,83.99', 'sendTime': '2010-05-07T10:10:00', 'referredTopics': ['x-phone', 'voice-clarity'], 'messageText': ' like x-phone the voice-clarity is good:)'}\n",
      "{'chirpId': '7', 'user': {'screenName': 'ChangEwing_573', 'lang': 'en', 'friendsCount': 182, 'statusesCount': 394, 'name': 'Chang Ewing', 'followersCount': 32136}, 'senderLocation': '36.21,72.6', 'sendTime': '2011-08-25T10:10:00', 'referredTopics': ['product-y', 'platform'], 'messageText': ' like product-y the platform is good'}\n",
      "{'chirpId': '8', 'user': {'screenName': 'NathanGiesen@211', 'lang': 'en', 'friendsCount': 39339, 'statusesCount': 473, 'name': 'Nathan Giesen', 'followersCount': 49416}, 'senderLocation': '46.05,93.34', 'sendTime': '2005-10-14T10:10:00', 'referredTopics': ['product-z', 'shortcut-menu'], 'messageText': ' like product-z the shortcut-menu is awesome:)'}\n",
      "{'chirpId': '9', 'user': {'screenName': 'NathanGiesen@211', 'lang': 'en', 'friendsCount': 39339, 'statusesCount': 473, 'name': 'Nathan Giesen', 'followersCount': 49416}, 'senderLocation': '36.86,74.62', 'sendTime': '2012-07-21T10:10:00', 'referredTopics': ['ccast', 'voicemail-service'], 'messageText': ' love ccast its voicemail-service is awesome'}\n",
      "{'chirpId': '10', 'user': {'screenName': 'ColineGeyer@63', 'lang': 'en', 'friendsCount': 121, 'statusesCount': 362, 'name': 'Coline Geyer', 'followersCount': 17159}, 'senderLocation': '29.15,76.53', 'sendTime': '2008-01-26T10:10:00', 'referredTopics': ['ccast', 'voice-clarity'], 'messageText': ' hate ccast its voice-clarity is OMG:('}\n",
      "{'chirpId': '11', 'user': {'screenName': 'NilaMilliron_tw', 'lang': 'en', 'friendsCount': 445, 'statusesCount': 164, 'name': 'Nila Milliron', 'followersCount': 22649}, 'senderLocation': '37.59,68.42', 'sendTime': '2008-03-09T10:10:00', 'referredTopics': ['x-phone', 'platform'], 'messageText': \" can't stand x-phone its platform is terrible\"}\n",
      "{'chirpId': '12', 'user': {'screenName': 'OliJackson_512', 'lang': 'en', 'friendsCount': 445, 'statusesCount': 164, 'name': 'Oli Jackson', 'followersCount': 22649}, 'senderLocation': '24.82,94.63', 'sendTime': '2010-02-13T10:10:00', 'referredTopics': ['product-y', 'voice-command'], 'messageText': ' like product-y the voice-command is amazing:)'}\n"
     ]
    }
   ],
   "source": [
    "# \n",
    "for g in chripMessage:\n",
    "    print(g)"
   ],
   "metadata": {
    "collapsed": false,
    "ExecuteTime": {
     "end_time": "2023-09-07T04:37:35.857223Z",
     "start_time": "2023-09-07T04:37:35.848572Z"
    }
   },
   "id": "bce5cc134daa5226"
  },
  {
   "cell_type": "markdown",
   "source": [
    "for g in chripMessage:\n",
    "    print(g['user']['screenName'])"
   ],
   "metadata": {
    "collapsed": false
   },
   "id": "650be4fe2b4458b5"
  },
  {
   "cell_type": "code",
   "execution_count": 41,
   "outputs": [
    {
     "name": "stdout",
     "output_type": "stream",
     "text": [
      "NathanGiesen@211\n",
      "ColineGeyer@63\n",
      "NilaMilliron_tw\n",
      "ChangEwing_573\n"
     ]
    }
   ],
   "source": [
    "for u in ChirpUsers:\n",
    "    print(u['screenName'])"
   ],
   "metadata": {
    "collapsed": false,
    "ExecuteTime": {
     "end_time": "2023-09-07T04:37:41.781352Z",
     "start_time": "2023-09-07T04:37:41.772474Z"
    }
   },
   "id": "a32733fe0274765b"
  },
  {
   "cell_type": "code",
   "execution_count": 42,
   "outputs": [
    {
     "name": "stdout",
     "output_type": "stream",
     "text": [
      "NathanGiesen@211  love product-z its customization is good:) 2008-04-26T10:10:00\n",
      "ColineGeyer@63  like ccast its shortcut-menu is awesome:) 2010-05-13T10:10:00\n",
      "NathanGiesen@211 like product-w the speed is good:) 2006-11-04T10:10:00\n",
      "NathanGiesen@211  like product-b the voice-command is mind-blowing:) 2011-12-26T10:10:00\n",
      "NathanGiesen@211  can't stand product-w its speed is terrible:( 2006-08-04T10:10:00\n",
      "ColineGeyer@63  like x-phone the voice-clarity is good:) 2010-05-07T10:10:00\n",
      "ChangEwing_573  like product-y the platform is good 2011-08-25T10:10:00\n",
      "NathanGiesen@211  like product-z the shortcut-menu is awesome:) 2005-10-14T10:10:00\n",
      "NathanGiesen@211  love ccast its voicemail-service is awesome 2012-07-21T10:10:00\n",
      "ColineGeyer@63  hate ccast its voice-clarity is OMG:( 2008-01-26T10:10:00\n",
      "NilaMilliron_tw  can't stand x-phone its platform is terrible 2008-03-09T10:10:00\n"
     ]
    }
   ],
   "source": [
    "for g in chripMessage:\n",
    "    for u in ChirpUsers:\n",
    "        if g['user']['screenName'] == u['screenName'] :\n",
    "            print(u['screenName'] , g['messageText'], g['sendTime'])"
   ],
   "metadata": {
    "collapsed": false,
    "ExecuteTime": {
     "end_time": "2023-09-07T04:37:42.934160Z",
     "start_time": "2023-09-07T04:37:42.923788Z"
    }
   },
   "id": "8267537818f3fd2"
  },
  {
   "cell_type": "markdown",
   "source": [
    "### JSON with PANDAS\n",
    "Loading JSON with the Pandas framework is similar to loading data from a file. \n"
   ],
   "metadata": {
    "collapsed": false
   },
   "id": "62219dd05836f77a"
  },
  {
   "cell_type": "code",
   "execution_count": 5,
   "outputs": [],
   "source": [
    "px = pd.read_json(path_or_buf=\"/Users/subhasis/Documents/MLData-class/Data/Files/ChirpMessages.json\", orient=None, typ='frame', dtype=None, convert_axes=None, convert_dates=True, keep_default_dates=True,  precise_float=False, date_unit=None, encoding=None, encoding_errors='strict', lines=False, chunksize=None, compression='infer', nrows=None, storage_options=None)\n"
   ],
   "metadata": {
    "collapsed": false,
    "ExecuteTime": {
     "end_time": "2023-09-06T05:07:26.105178Z",
     "start_time": "2023-09-06T05:07:26.004002Z"
    }
   },
   "id": "b6734308973d7d"
  },
  {
   "cell_type": "markdown",
   "source": [
    "### Unnesting the JSON Data\n",
    "<p>\n",
    "You can adjust the max_level value to access different levels of nesting. This will result in a dataframe with a modified header. Pandas will automatically add a \".\" operator to represent the nesting level.\n",
    "</p>"
   ],
   "metadata": {
    "collapsed": false
   },
   "id": "bb139c5fe22a39a8"
  },
  {
   "cell_type": "code",
   "execution_count": 6,
   "outputs": [
    {
     "data": {
      "text/plain": "   chirpId senderLocation             sendTime              referredTopics  \\\n0        1    47.44,80.65  2008-04-26T10:10:00  [product-z, customization]   \n1        2    32.84,67.14  2010-05-13T10:10:00      [ccast, shortcut-menu]   \n2        3     29.72,75.8  2006-11-04T10:10:00          [product-w, speed]   \n3        4    39.28,70.48  2011-12-26T10:10:00  [product-b, voice-command]   \n4        5    40.09,92.69  2006-08-04T10:10:00          [product-w, speed]   \n5        6    47.51,83.99  2010-05-07T10:10:00    [x-phone, voice-clarity]   \n6        7     36.21,72.6  2011-08-25T10:10:00       [product-y, platform]   \n7        8    46.05,93.34  2005-10-14T10:10:00  [product-z, shortcut-menu]   \n8        9    36.86,74.62  2012-07-21T10:10:00  [ccast, voicemail-service]   \n9       10    29.15,76.53  2008-01-26T10:10:00      [ccast, voice-clarity]   \n10      11    37.59,68.42  2008-03-09T10:10:00         [x-phone, platform]   \n11      12    24.82,94.63  2010-02-13T10:10:00  [product-y, voice-command]   \n\n                                          messageText   user.screenName  \\\n0          love product-z its customization is good:)  NathanGiesen@211   \n1           like ccast its shortcut-menu is awesome:)    ColineGeyer@63   \n2                  like product-w the speed is good:)  NathanGiesen@211   \n3    like product-b the voice-command is mind-blow...  NathanGiesen@211   \n4       can't stand product-w its speed is terrible:(  NathanGiesen@211   \n5            like x-phone the voice-clarity is good:)    ColineGeyer@63   \n6                 like product-y the platform is good    ChangEwing_573   \n7       like product-z the shortcut-menu is awesome:)  NathanGiesen@211   \n8         love ccast its voicemail-service is awesome  NathanGiesen@211   \n9               hate ccast its voice-clarity is OMG:(    ColineGeyer@63   \n10       can't stand x-phone its platform is terrible   NilaMilliron_tw   \n11      like product-y the voice-command is amazing:)    OliJackson_512   \n\n   user.lang  user.friendsCount  user.statusesCount      user.name  \\\n0         en              39339                 473  Nathan Giesen   \n1         en                121                 362   Coline Geyer   \n2         en              39339                 473  Nathan Giesen   \n3         en              39339                 473  Nathan Giesen   \n4         en              39339                 473  Nathan Giesen   \n5         en                121                 362   Coline Geyer   \n6         en                182                 394    Chang Ewing   \n7         en              39339                 473  Nathan Giesen   \n8         en              39339                 473  Nathan Giesen   \n9         en                121                 362   Coline Geyer   \n10        en                445                 164  Nila Milliron   \n11        en                445                 164    Oli Jackson   \n\n    user.followersCount  \n0                 49416  \n1                 17159  \n2                 49416  \n3                 49416  \n4                 49416  \n5                 17159  \n6                 32136  \n7                 49416  \n8                 49416  \n9                 17159  \n10                22649  \n11                22649  ",
      "text/html": "<div>\n<style scoped>\n    .dataframe tbody tr th:only-of-type {\n        vertical-align: middle;\n    }\n\n    .dataframe tbody tr th {\n        vertical-align: top;\n    }\n\n    .dataframe thead th {\n        text-align: right;\n    }\n</style>\n<table border=\"1\" class=\"dataframe\">\n  <thead>\n    <tr style=\"text-align: right;\">\n      <th></th>\n      <th>chirpId</th>\n      <th>senderLocation</th>\n      <th>sendTime</th>\n      <th>referredTopics</th>\n      <th>messageText</th>\n      <th>user.screenName</th>\n      <th>user.lang</th>\n      <th>user.friendsCount</th>\n      <th>user.statusesCount</th>\n      <th>user.name</th>\n      <th>user.followersCount</th>\n    </tr>\n  </thead>\n  <tbody>\n    <tr>\n      <th>0</th>\n      <td>1</td>\n      <td>47.44,80.65</td>\n      <td>2008-04-26T10:10:00</td>\n      <td>[product-z, customization]</td>\n      <td>love product-z its customization is good:)</td>\n      <td>NathanGiesen@211</td>\n      <td>en</td>\n      <td>39339</td>\n      <td>473</td>\n      <td>Nathan Giesen</td>\n      <td>49416</td>\n    </tr>\n    <tr>\n      <th>1</th>\n      <td>2</td>\n      <td>32.84,67.14</td>\n      <td>2010-05-13T10:10:00</td>\n      <td>[ccast, shortcut-menu]</td>\n      <td>like ccast its shortcut-menu is awesome:)</td>\n      <td>ColineGeyer@63</td>\n      <td>en</td>\n      <td>121</td>\n      <td>362</td>\n      <td>Coline Geyer</td>\n      <td>17159</td>\n    </tr>\n    <tr>\n      <th>2</th>\n      <td>3</td>\n      <td>29.72,75.8</td>\n      <td>2006-11-04T10:10:00</td>\n      <td>[product-w, speed]</td>\n      <td>like product-w the speed is good:)</td>\n      <td>NathanGiesen@211</td>\n      <td>en</td>\n      <td>39339</td>\n      <td>473</td>\n      <td>Nathan Giesen</td>\n      <td>49416</td>\n    </tr>\n    <tr>\n      <th>3</th>\n      <td>4</td>\n      <td>39.28,70.48</td>\n      <td>2011-12-26T10:10:00</td>\n      <td>[product-b, voice-command]</td>\n      <td>like product-b the voice-command is mind-blow...</td>\n      <td>NathanGiesen@211</td>\n      <td>en</td>\n      <td>39339</td>\n      <td>473</td>\n      <td>Nathan Giesen</td>\n      <td>49416</td>\n    </tr>\n    <tr>\n      <th>4</th>\n      <td>5</td>\n      <td>40.09,92.69</td>\n      <td>2006-08-04T10:10:00</td>\n      <td>[product-w, speed]</td>\n      <td>can't stand product-w its speed is terrible:(</td>\n      <td>NathanGiesen@211</td>\n      <td>en</td>\n      <td>39339</td>\n      <td>473</td>\n      <td>Nathan Giesen</td>\n      <td>49416</td>\n    </tr>\n    <tr>\n      <th>5</th>\n      <td>6</td>\n      <td>47.51,83.99</td>\n      <td>2010-05-07T10:10:00</td>\n      <td>[x-phone, voice-clarity]</td>\n      <td>like x-phone the voice-clarity is good:)</td>\n      <td>ColineGeyer@63</td>\n      <td>en</td>\n      <td>121</td>\n      <td>362</td>\n      <td>Coline Geyer</td>\n      <td>17159</td>\n    </tr>\n    <tr>\n      <th>6</th>\n      <td>7</td>\n      <td>36.21,72.6</td>\n      <td>2011-08-25T10:10:00</td>\n      <td>[product-y, platform]</td>\n      <td>like product-y the platform is good</td>\n      <td>ChangEwing_573</td>\n      <td>en</td>\n      <td>182</td>\n      <td>394</td>\n      <td>Chang Ewing</td>\n      <td>32136</td>\n    </tr>\n    <tr>\n      <th>7</th>\n      <td>8</td>\n      <td>46.05,93.34</td>\n      <td>2005-10-14T10:10:00</td>\n      <td>[product-z, shortcut-menu]</td>\n      <td>like product-z the shortcut-menu is awesome:)</td>\n      <td>NathanGiesen@211</td>\n      <td>en</td>\n      <td>39339</td>\n      <td>473</td>\n      <td>Nathan Giesen</td>\n      <td>49416</td>\n    </tr>\n    <tr>\n      <th>8</th>\n      <td>9</td>\n      <td>36.86,74.62</td>\n      <td>2012-07-21T10:10:00</td>\n      <td>[ccast, voicemail-service]</td>\n      <td>love ccast its voicemail-service is awesome</td>\n      <td>NathanGiesen@211</td>\n      <td>en</td>\n      <td>39339</td>\n      <td>473</td>\n      <td>Nathan Giesen</td>\n      <td>49416</td>\n    </tr>\n    <tr>\n      <th>9</th>\n      <td>10</td>\n      <td>29.15,76.53</td>\n      <td>2008-01-26T10:10:00</td>\n      <td>[ccast, voice-clarity]</td>\n      <td>hate ccast its voice-clarity is OMG:(</td>\n      <td>ColineGeyer@63</td>\n      <td>en</td>\n      <td>121</td>\n      <td>362</td>\n      <td>Coline Geyer</td>\n      <td>17159</td>\n    </tr>\n    <tr>\n      <th>10</th>\n      <td>11</td>\n      <td>37.59,68.42</td>\n      <td>2008-03-09T10:10:00</td>\n      <td>[x-phone, platform]</td>\n      <td>can't stand x-phone its platform is terrible</td>\n      <td>NilaMilliron_tw</td>\n      <td>en</td>\n      <td>445</td>\n      <td>164</td>\n      <td>Nila Milliron</td>\n      <td>22649</td>\n    </tr>\n    <tr>\n      <th>11</th>\n      <td>12</td>\n      <td>24.82,94.63</td>\n      <td>2010-02-13T10:10:00</td>\n      <td>[product-y, voice-command]</td>\n      <td>like product-y the voice-command is amazing:)</td>\n      <td>OliJackson_512</td>\n      <td>en</td>\n      <td>445</td>\n      <td>164</td>\n      <td>Oli Jackson</td>\n      <td>22649</td>\n    </tr>\n  </tbody>\n</table>\n</div>"
     },
     "execution_count": 6,
     "metadata": {},
     "output_type": "execute_result"
    }
   ],
   "source": [
    "pd.json_normalize(chripMessage, max_level=2)"
   ],
   "metadata": {
    "collapsed": false,
    "ExecuteTime": {
     "end_time": "2023-09-06T05:07:28.379256Z",
     "start_time": "2023-09-06T05:07:28.338829Z"
    }
   },
   "id": "f34f1f429c611140"
  },
  {
   "cell_type": "code",
   "execution_count": 7,
   "outputs": [
    {
     "data": {
      "text/plain": "   chirpId                                               user senderLocation  \\\n0        1  {'screenName': 'NathanGiesen@211', 'lang': 'en...    47.44,80.65   \n1        2  {'screenName': 'ColineGeyer@63', 'lang': 'en',...    32.84,67.14   \n2        3  {'screenName': 'NathanGiesen@211', 'lang': 'en...     29.72,75.8   \n3        4  {'screenName': 'NathanGiesen@211', 'lang': 'en...    39.28,70.48   \n4        5  {'screenName': 'NathanGiesen@211', 'lang': 'en...    40.09,92.69   \n5        6  {'screenName': 'ColineGeyer@63', 'lang': 'en',...    47.51,83.99   \n6        7  {'screenName': 'ChangEwing_573', 'lang': 'en',...     36.21,72.6   \n7        8  {'screenName': 'NathanGiesen@211', 'lang': 'en...    46.05,93.34   \n8        9  {'screenName': 'NathanGiesen@211', 'lang': 'en...    36.86,74.62   \n9       10  {'screenName': 'ColineGeyer@63', 'lang': 'en',...    29.15,76.53   \n10      11  {'screenName': 'NilaMilliron_tw', 'lang': 'en'...    37.59,68.42   \n11      12  {'screenName': 'OliJackson_512', 'lang': 'en',...    24.82,94.63   \n\n               sendTime              referredTopics  \\\n0   2008-04-26T10:10:00  [product-z, customization]   \n1   2010-05-13T10:10:00      [ccast, shortcut-menu]   \n2   2006-11-04T10:10:00          [product-w, speed]   \n3   2011-12-26T10:10:00  [product-b, voice-command]   \n4   2006-08-04T10:10:00          [product-w, speed]   \n5   2010-05-07T10:10:00    [x-phone, voice-clarity]   \n6   2011-08-25T10:10:00       [product-y, platform]   \n7   2005-10-14T10:10:00  [product-z, shortcut-menu]   \n8   2012-07-21T10:10:00  [ccast, voicemail-service]   \n9   2008-01-26T10:10:00      [ccast, voice-clarity]   \n10  2008-03-09T10:10:00         [x-phone, platform]   \n11  2010-02-13T10:10:00  [product-y, voice-command]   \n\n                                          messageText  \n0          love product-z its customization is good:)  \n1           like ccast its shortcut-menu is awesome:)  \n2                  like product-w the speed is good:)  \n3    like product-b the voice-command is mind-blow...  \n4       can't stand product-w its speed is terrible:(  \n5            like x-phone the voice-clarity is good:)  \n6                 like product-y the platform is good  \n7       like product-z the shortcut-menu is awesome:)  \n8         love ccast its voicemail-service is awesome  \n9               hate ccast its voice-clarity is OMG:(  \n10       can't stand x-phone its platform is terrible  \n11      like product-y the voice-command is amazing:)  ",
      "text/html": "<div>\n<style scoped>\n    .dataframe tbody tr th:only-of-type {\n        vertical-align: middle;\n    }\n\n    .dataframe tbody tr th {\n        vertical-align: top;\n    }\n\n    .dataframe thead th {\n        text-align: right;\n    }\n</style>\n<table border=\"1\" class=\"dataframe\">\n  <thead>\n    <tr style=\"text-align: right;\">\n      <th></th>\n      <th>chirpId</th>\n      <th>user</th>\n      <th>senderLocation</th>\n      <th>sendTime</th>\n      <th>referredTopics</th>\n      <th>messageText</th>\n    </tr>\n  </thead>\n  <tbody>\n    <tr>\n      <th>0</th>\n      <td>1</td>\n      <td>{'screenName': 'NathanGiesen@211', 'lang': 'en...</td>\n      <td>47.44,80.65</td>\n      <td>2008-04-26T10:10:00</td>\n      <td>[product-z, customization]</td>\n      <td>love product-z its customization is good:)</td>\n    </tr>\n    <tr>\n      <th>1</th>\n      <td>2</td>\n      <td>{'screenName': 'ColineGeyer@63', 'lang': 'en',...</td>\n      <td>32.84,67.14</td>\n      <td>2010-05-13T10:10:00</td>\n      <td>[ccast, shortcut-menu]</td>\n      <td>like ccast its shortcut-menu is awesome:)</td>\n    </tr>\n    <tr>\n      <th>2</th>\n      <td>3</td>\n      <td>{'screenName': 'NathanGiesen@211', 'lang': 'en...</td>\n      <td>29.72,75.8</td>\n      <td>2006-11-04T10:10:00</td>\n      <td>[product-w, speed]</td>\n      <td>like product-w the speed is good:)</td>\n    </tr>\n    <tr>\n      <th>3</th>\n      <td>4</td>\n      <td>{'screenName': 'NathanGiesen@211', 'lang': 'en...</td>\n      <td>39.28,70.48</td>\n      <td>2011-12-26T10:10:00</td>\n      <td>[product-b, voice-command]</td>\n      <td>like product-b the voice-command is mind-blow...</td>\n    </tr>\n    <tr>\n      <th>4</th>\n      <td>5</td>\n      <td>{'screenName': 'NathanGiesen@211', 'lang': 'en...</td>\n      <td>40.09,92.69</td>\n      <td>2006-08-04T10:10:00</td>\n      <td>[product-w, speed]</td>\n      <td>can't stand product-w its speed is terrible:(</td>\n    </tr>\n    <tr>\n      <th>5</th>\n      <td>6</td>\n      <td>{'screenName': 'ColineGeyer@63', 'lang': 'en',...</td>\n      <td>47.51,83.99</td>\n      <td>2010-05-07T10:10:00</td>\n      <td>[x-phone, voice-clarity]</td>\n      <td>like x-phone the voice-clarity is good:)</td>\n    </tr>\n    <tr>\n      <th>6</th>\n      <td>7</td>\n      <td>{'screenName': 'ChangEwing_573', 'lang': 'en',...</td>\n      <td>36.21,72.6</td>\n      <td>2011-08-25T10:10:00</td>\n      <td>[product-y, platform]</td>\n      <td>like product-y the platform is good</td>\n    </tr>\n    <tr>\n      <th>7</th>\n      <td>8</td>\n      <td>{'screenName': 'NathanGiesen@211', 'lang': 'en...</td>\n      <td>46.05,93.34</td>\n      <td>2005-10-14T10:10:00</td>\n      <td>[product-z, shortcut-menu]</td>\n      <td>like product-z the shortcut-menu is awesome:)</td>\n    </tr>\n    <tr>\n      <th>8</th>\n      <td>9</td>\n      <td>{'screenName': 'NathanGiesen@211', 'lang': 'en...</td>\n      <td>36.86,74.62</td>\n      <td>2012-07-21T10:10:00</td>\n      <td>[ccast, voicemail-service]</td>\n      <td>love ccast its voicemail-service is awesome</td>\n    </tr>\n    <tr>\n      <th>9</th>\n      <td>10</td>\n      <td>{'screenName': 'ColineGeyer@63', 'lang': 'en',...</td>\n      <td>29.15,76.53</td>\n      <td>2008-01-26T10:10:00</td>\n      <td>[ccast, voice-clarity]</td>\n      <td>hate ccast its voice-clarity is OMG:(</td>\n    </tr>\n    <tr>\n      <th>10</th>\n      <td>11</td>\n      <td>{'screenName': 'NilaMilliron_tw', 'lang': 'en'...</td>\n      <td>37.59,68.42</td>\n      <td>2008-03-09T10:10:00</td>\n      <td>[x-phone, platform]</td>\n      <td>can't stand x-phone its platform is terrible</td>\n    </tr>\n    <tr>\n      <th>11</th>\n      <td>12</td>\n      <td>{'screenName': 'OliJackson_512', 'lang': 'en',...</td>\n      <td>24.82,94.63</td>\n      <td>2010-02-13T10:10:00</td>\n      <td>[product-y, voice-command]</td>\n      <td>like product-y the voice-command is amazing:)</td>\n    </tr>\n  </tbody>\n</table>\n</div>"
     },
     "execution_count": 7,
     "metadata": {},
     "output_type": "execute_result"
    }
   ],
   "source": [
    "pd.json_normalize(chripMessage, max_level=0)"
   ],
   "metadata": {
    "collapsed": false,
    "ExecuteTime": {
     "end_time": "2023-09-06T05:07:40.614668Z",
     "start_time": "2023-09-06T05:07:40.463252Z"
    }
   },
   "id": "1445256d6bc4551c"
  },
  {
   "cell_type": "markdown",
   "source": [
    "### JSON Path Expression \n",
    "\n",
    "<p>\n",
    "JSON Path is a query language and expression syntax that helps navigate and manipulate \n",
    "JSON (JavaScript Object Notation) data. It enables you to specify a path to access particular elements or values within a JSON document. Additionally, in the context of databases, JSON Path serves as a query language and expression syntax for extracting data from JSON documents saved in a database system. We will dive deeper into the database aspect when discussing databases. For now, let's focus on accessing data.\n",
    "\n",
    "</p>\n",
    "\n",
    "#### Atomic Expression \n",
    "| **Syntax**          | **Meaning**                                                                                 |\n",
    "|---------------------|---------------------------------------------------------------------------------------------|\n",
    "| \\``$`\\`             | The root object                                                                             |\n",
    "| ```this```          | The \"current\" object.                                                                       |\n",
    "| ```foo```           |  More generally, this syntax allows \"named operators\" to extend JSONPath is arbitrary ways  |\n",
    "| *field*             |  Specified field(s), described below                                                        |\n",
    "| ``[`` *field* ``]`` | Same as *field*                                                                             |\n",
    "| ``[`` *idx* ``]``   | Array access, described below (this is always unambiguous with field access)                |\n",
    "\n",
    "#### JSON Operations\n",
    "\n",
    "|  Syntax                            | Meaning                                                                           |\n",
    "|------------------------------------|-----------------------------------------------------------------------------------|\n",
    "| *jsonpath1* ``.`` *jsonpath2*      | All nodes matched by *jsonpath2* starting at any node matching *jsonpath1*        |\n",
    "| *jsonpath* ``[`` *whatever* ``]``  | Same as *jsonpath*\\ ``.``\\ *whatever*                                             |\n",
    "| *jsonpath1* ``..`` *jsonpath2*     | All nodes matched by *jsonpath2* that descend from any node matching *jsonpath1*  |\n",
    "| *jsonpath1* ``where`` *jsonpath2*  | All nodes matched by *jsonpath2* that descend from any node matching *jsonpath1*  |\n",
    "|   *jsonpath1* ``|`` *jsonpath2*    | Any nodes matching *jsonpath1* with a child matching *jsonpath2*                  |\n",
    "|  *jsonpath1* ``|`` *jsonpath2*     | Any nodes matching the union of *jsonpath1* and *jsonpath2*                       \n",
    "\n"
   ],
   "metadata": {
    "collapsed": false
   },
   "id": "fb33091a28f52cca"
  },
  {
   "cell_type": "code",
   "execution_count": 9,
   "outputs": [],
   "source": [
    "from jsonpath_ng import jsonpath, parse"
   ],
   "metadata": {
    "collapsed": false,
    "ExecuteTime": {
     "end_time": "2023-09-06T05:09:52.455017Z",
     "start_time": "2023-09-06T05:09:52.415894Z"
    }
   },
   "id": "cdb0f1f046e414ab"
  },
  {
   "cell_type": "code",
   "execution_count": 10,
   "outputs": [
    {
     "data": {
      "text/plain": "['NathanGiesen@211',\n 'ColineGeyer@63',\n 'NathanGiesen@211',\n 'NathanGiesen@211',\n 'NathanGiesen@211']"
     },
     "execution_count": 10,
     "metadata": {},
     "output_type": "execute_result"
    }
   ],
   "source": [
    "jsonpath_expr = parse('$..user.screenName')\n",
    "[match.value for match in jsonpath_expr.find(chripMessage[0:5])]"
   ],
   "metadata": {
    "collapsed": false,
    "ExecuteTime": {
     "end_time": "2023-09-06T05:09:53.695057Z",
     "start_time": "2023-09-06T05:09:53.676715Z"
    }
   },
   "id": "e39ae26c0adaa098"
  },
  {
   "cell_type": "code",
   "execution_count": 38,
   "outputs": [
    {
     "ename": "JsonPathParserError",
     "evalue": "Unknown named operator `sorted` at 1:26",
     "output_type": "error",
     "traceback": [
      "\u001B[0;31m---------------------------------------------------------------------------\u001B[0m",
      "\u001B[0;31mJsonPathParserError\u001B[0m                       Traceback (most recent call last)",
      "Cell \u001B[0;32mIn[38], line 1\u001B[0m\n\u001B[0;32m----> 1\u001B[0m jsonpath_expr \u001B[38;5;241m=\u001B[39m \u001B[43mparse\u001B[49m\u001B[43m(\u001B[49m\u001B[38;5;124;43m'\u001B[39;49m\u001B[38;5;124;43m$..user.screenName.`sorted`\u001B[39;49m\u001B[38;5;124;43m'\u001B[39;49m\u001B[43m)\u001B[49m\n\u001B[1;32m      2\u001B[0m [match\u001B[38;5;241m.\u001B[39mvalue \u001B[38;5;28;01mfor\u001B[39;00m match \u001B[38;5;129;01min\u001B[39;00m jsonpath_expr\u001B[38;5;241m.\u001B[39mfind(chripMessage[\u001B[38;5;241m0\u001B[39m:\u001B[38;5;241m5\u001B[39m])]\n",
      "File \u001B[0;32m~/Documents/MLData-class/venv/lib/python3.11/site-packages/jsonpath_ng/parser.py:21\u001B[0m, in \u001B[0;36mparse\u001B[0;34m(string)\u001B[0m\n\u001B[1;32m     20\u001B[0m \u001B[38;5;28;01mdef\u001B[39;00m \u001B[38;5;21mparse\u001B[39m(string):\n\u001B[0;32m---> 21\u001B[0m     \u001B[38;5;28;01mreturn\u001B[39;00m \u001B[43mJsonPathParser\u001B[49m\u001B[43m(\u001B[49m\u001B[43m)\u001B[49m\u001B[38;5;241;43m.\u001B[39;49m\u001B[43mparse\u001B[49m\u001B[43m(\u001B[49m\u001B[43mstring\u001B[49m\u001B[43m)\u001B[49m\n",
      "File \u001B[0;32m~/Documents/MLData-class/venv/lib/python3.11/site-packages/jsonpath_ng/parser.py:44\u001B[0m, in \u001B[0;36mJsonPathParser.parse\u001B[0;34m(self, string, lexer)\u001B[0m\n\u001B[1;32m     42\u001B[0m \u001B[38;5;28;01mdef\u001B[39;00m \u001B[38;5;21mparse\u001B[39m(\u001B[38;5;28mself\u001B[39m, string, lexer \u001B[38;5;241m=\u001B[39m \u001B[38;5;28;01mNone\u001B[39;00m):\n\u001B[1;32m     43\u001B[0m     lexer \u001B[38;5;241m=\u001B[39m lexer \u001B[38;5;129;01mor\u001B[39;00m \u001B[38;5;28mself\u001B[39m\u001B[38;5;241m.\u001B[39mlexer_class()\n\u001B[0;32m---> 44\u001B[0m     \u001B[38;5;28;01mreturn\u001B[39;00m \u001B[38;5;28;43mself\u001B[39;49m\u001B[38;5;241;43m.\u001B[39;49m\u001B[43mparse_token_stream\u001B[49m\u001B[43m(\u001B[49m\u001B[43mlexer\u001B[49m\u001B[38;5;241;43m.\u001B[39;49m\u001B[43mtokenize\u001B[49m\u001B[43m(\u001B[49m\u001B[43mstring\u001B[49m\u001B[43m)\u001B[49m\u001B[43m)\u001B[49m\n",
      "File \u001B[0;32m~/Documents/MLData-class/venv/lib/python3.11/site-packages/jsonpath_ng/parser.py:67\u001B[0m, in \u001B[0;36mJsonPathParser.parse_token_stream\u001B[0;34m(self, token_iterator, start_symbol)\u001B[0m\n\u001B[1;32m     58\u001B[0m \u001B[38;5;66;03m# And we regenerate the parse table every time; it doesn't actually take that long!\u001B[39;00m\n\u001B[1;32m     59\u001B[0m new_parser \u001B[38;5;241m=\u001B[39m ply\u001B[38;5;241m.\u001B[39myacc\u001B[38;5;241m.\u001B[39myacc(module\u001B[38;5;241m=\u001B[39m\u001B[38;5;28mself\u001B[39m,\n\u001B[1;32m     60\u001B[0m                            debug\u001B[38;5;241m=\u001B[39m\u001B[38;5;28mself\u001B[39m\u001B[38;5;241m.\u001B[39mdebug,\n\u001B[1;32m     61\u001B[0m                            tabmodule \u001B[38;5;241m=\u001B[39m parsing_table_module,\n\u001B[0;32m   (...)\u001B[0m\n\u001B[1;32m     64\u001B[0m                            start \u001B[38;5;241m=\u001B[39m start_symbol,\n\u001B[1;32m     65\u001B[0m                            errorlog \u001B[38;5;241m=\u001B[39m logger)\n\u001B[0;32m---> 67\u001B[0m \u001B[38;5;28;01mreturn\u001B[39;00m \u001B[43mnew_parser\u001B[49m\u001B[38;5;241;43m.\u001B[39;49m\u001B[43mparse\u001B[49m\u001B[43m(\u001B[49m\u001B[43mlexer\u001B[49m\u001B[43m \u001B[49m\u001B[38;5;241;43m=\u001B[39;49m\u001B[43m \u001B[49m\u001B[43mIteratorToTokenStream\u001B[49m\u001B[43m(\u001B[49m\u001B[43mtoken_iterator\u001B[49m\u001B[43m)\u001B[49m\u001B[43m)\u001B[49m\n",
      "File \u001B[0;32m~/Documents/MLData-class/venv/lib/python3.11/site-packages/ply/yacc.py:333\u001B[0m, in \u001B[0;36mLRParser.parse\u001B[0;34m(self, input, lexer, debug, tracking, tokenfunc)\u001B[0m\n\u001B[1;32m    331\u001B[0m     \u001B[38;5;28;01mreturn\u001B[39;00m \u001B[38;5;28mself\u001B[39m\u001B[38;5;241m.\u001B[39mparseopt(\u001B[38;5;28minput\u001B[39m, lexer, debug, tracking, tokenfunc)\n\u001B[1;32m    332\u001B[0m \u001B[38;5;28;01melse\u001B[39;00m:\n\u001B[0;32m--> 333\u001B[0m     \u001B[38;5;28;01mreturn\u001B[39;00m \u001B[38;5;28;43mself\u001B[39;49m\u001B[38;5;241;43m.\u001B[39;49m\u001B[43mparseopt_notrack\u001B[49m\u001B[43m(\u001B[49m\u001B[38;5;28;43minput\u001B[39;49m\u001B[43m,\u001B[49m\u001B[43m \u001B[49m\u001B[43mlexer\u001B[49m\u001B[43m,\u001B[49m\u001B[43m \u001B[49m\u001B[43mdebug\u001B[49m\u001B[43m,\u001B[49m\u001B[43m \u001B[49m\u001B[43mtracking\u001B[49m\u001B[43m,\u001B[49m\u001B[43m \u001B[49m\u001B[43mtokenfunc\u001B[49m\u001B[43m)\u001B[49m\n",
      "File \u001B[0;32m~/Documents/MLData-class/venv/lib/python3.11/site-packages/ply/yacc.py:1120\u001B[0m, in \u001B[0;36mLRParser.parseopt_notrack\u001B[0;34m(self, input, lexer, debug, tracking, tokenfunc)\u001B[0m\n\u001B[1;32m   1118\u001B[0m \u001B[38;5;28;01mdel\u001B[39;00m symstack[\u001B[38;5;241m-\u001B[39mplen:]\n\u001B[1;32m   1119\u001B[0m \u001B[38;5;28mself\u001B[39m\u001B[38;5;241m.\u001B[39mstate \u001B[38;5;241m=\u001B[39m state\n\u001B[0;32m-> 1120\u001B[0m \u001B[43mp\u001B[49m\u001B[38;5;241;43m.\u001B[39;49m\u001B[43mcallable\u001B[49m\u001B[43m(\u001B[49m\u001B[43mpslice\u001B[49m\u001B[43m)\u001B[49m\n\u001B[1;32m   1121\u001B[0m \u001B[38;5;28;01mdel\u001B[39;00m statestack[\u001B[38;5;241m-\u001B[39mplen:]\n\u001B[1;32m   1122\u001B[0m symstack\u001B[38;5;241m.\u001B[39mappend(sym)\n",
      "File \u001B[0;32m~/Documents/MLData-class/venv/lib/python3.11/site-packages/jsonpath_ng/parser.py:114\u001B[0m, in \u001B[0;36mJsonPathParser.p_jsonpath_named_operator\u001B[0;34m(self, p)\u001B[0m\n\u001B[1;32m    112\u001B[0m     p[\u001B[38;5;241m0\u001B[39m] \u001B[38;5;241m=\u001B[39m Parent()\n\u001B[1;32m    113\u001B[0m \u001B[38;5;28;01melse\u001B[39;00m:\n\u001B[0;32m--> 114\u001B[0m     \u001B[38;5;28;01mraise\u001B[39;00m JsonPathParserError(\u001B[38;5;124m'\u001B[39m\u001B[38;5;124mUnknown named operator `\u001B[39m\u001B[38;5;132;01m%s\u001B[39;00m\u001B[38;5;124m` at \u001B[39m\u001B[38;5;132;01m%s\u001B[39;00m\u001B[38;5;124m:\u001B[39m\u001B[38;5;132;01m%s\u001B[39;00m\u001B[38;5;124m'\u001B[39m\n\u001B[1;32m    115\u001B[0m                               \u001B[38;5;241m%\u001B[39m (p[\u001B[38;5;241m1\u001B[39m], p\u001B[38;5;241m.\u001B[39mlineno(\u001B[38;5;241m1\u001B[39m), p\u001B[38;5;241m.\u001B[39mlexpos(\u001B[38;5;241m1\u001B[39m)))\n",
      "\u001B[0;31mJsonPathParserError\u001B[0m: Unknown named operator `sorted` at 1:26"
     ]
    }
   ],
   "source": [
    "jsonpath_expr = parse('')\n",
    "[match.value for match in jsonpath_expr.find(chripMessage[0:5])]"
   ],
   "metadata": {
    "collapsed": false,
    "ExecuteTime": {
     "end_time": "2023-09-06T05:21:58.144850Z",
     "start_time": "2023-09-06T05:21:58.068120Z"
    }
   },
   "id": "ffa860f80d19a445"
  },
  {
   "cell_type": "code",
   "execution_count": 114,
   "outputs": [
    {
     "data": {
      "text/plain": "[{'chirpId': '1',\n  'user': {'screenName': 'NathanGiesen@211',\n   'lang': 'en',\n   'friendsCount': 39339,\n   'statusesCount': 473,\n   'name': 'Nathan Giesen',\n   'followersCount': 49416},\n  'senderLocation': '47.44,80.65',\n  'sendTime': '2008-04-26T10:10:00',\n  'referredTopics': ['product-z', 'customization'],\n  'messageText': ' love product-z its customization is good:)'},\n {'chirpId': '2',\n  'user': {'screenName': 'ColineGeyer@63',\n   'lang': 'en',\n   'friendsCount': 121,\n   'statusesCount': 362,\n   'name': 'Coline Geyer',\n   'followersCount': 17159},\n  'senderLocation': '32.84,67.14',\n  'sendTime': '2010-05-13T10:10:00',\n  'referredTopics': ['ccast', 'shortcut-menu'],\n  'messageText': ' like ccast its shortcut-menu is awesome:)'},\n {'chirpId': '3',\n  'user': {'screenName': 'NathanGiesen@211',\n   'lang': 'en',\n   'friendsCount': 39339,\n   'statusesCount': 473,\n   'name': 'Nathan Giesen',\n   'followersCount': 49416},\n  'senderLocation': '29.72,75.8',\n  'sendTime': '2006-11-04T10:10:00',\n  'referredTopics': ['product-w', 'speed'],\n  'messageText': 'like product-w the speed is good:)'},\n {'chirpId': '4',\n  'user': {'screenName': 'NathanGiesen@211',\n   'lang': 'en',\n   'friendsCount': 39339,\n   'statusesCount': 473,\n   'name': 'Nathan Giesen',\n   'followersCount': 49416},\n  'senderLocation': '39.28,70.48',\n  'sendTime': '2011-12-26T10:10:00',\n  'referredTopics': ['product-b', 'voice-command'],\n  'messageText': ' like product-b the voice-command is mind-blowing:)'},\n {'chirpId': '5',\n  'user': {'screenName': 'NathanGiesen@211',\n   'lang': 'en',\n   'friendsCount': 39339,\n   'statusesCount': 473,\n   'name': 'Nathan Giesen',\n   'followersCount': 49416},\n  'senderLocation': '40.09,92.69',\n  'sendTime': '2006-08-04T10:10:00',\n  'referredTopics': ['product-w', 'speed'],\n  'messageText': \" can't stand product-w its speed is terrible:(\"},\n {'chirpId': '6',\n  'user': {'screenName': 'ColineGeyer@63',\n   'lang': 'en',\n   'friendsCount': 121,\n   'statusesCount': 362,\n   'name': 'Coline Geyer',\n   'followersCount': 17159},\n  'senderLocation': '47.51,83.99',\n  'sendTime': '2010-05-07T10:10:00',\n  'referredTopics': ['x-phone', 'voice-clarity'],\n  'messageText': ' like x-phone the voice-clarity is good:)'},\n {'chirpId': '7',\n  'user': {'screenName': 'ChangEwing_573',\n   'lang': 'en',\n   'friendsCount': 182,\n   'statusesCount': 394,\n   'name': 'Chang Ewing',\n   'followersCount': 32136},\n  'senderLocation': '36.21,72.6',\n  'sendTime': '2011-08-25T10:10:00',\n  'referredTopics': ['product-y', 'platform'],\n  'messageText': ' like product-y the platform is good'},\n {'chirpId': '8',\n  'user': {'screenName': 'NathanGiesen@211',\n   'lang': 'en',\n   'friendsCount': 39339,\n   'statusesCount': 473,\n   'name': 'Nathan Giesen',\n   'followersCount': 49416},\n  'senderLocation': '46.05,93.34',\n  'sendTime': '2005-10-14T10:10:00',\n  'referredTopics': ['product-z', 'shortcut-menu'],\n  'messageText': ' like product-z the shortcut-menu is awesome:)'},\n {'chirpId': '9',\n  'user': {'screenName': 'NathanGiesen@211',\n   'lang': 'en',\n   'friendsCount': 39339,\n   'statusesCount': 473,\n   'name': 'Nathan Giesen',\n   'followersCount': 49416},\n  'senderLocation': '36.86,74.62',\n  'sendTime': '2012-07-21T10:10:00',\n  'referredTopics': ['ccast', 'voicemail-service'],\n  'messageText': ' love ccast its voicemail-service is awesome'},\n {'chirpId': '10',\n  'user': {'screenName': 'ColineGeyer@63',\n   'lang': 'en',\n   'friendsCount': 121,\n   'statusesCount': 362,\n   'name': 'Coline Geyer',\n   'followersCount': 17159},\n  'senderLocation': '29.15,76.53',\n  'sendTime': '2008-01-26T10:10:00',\n  'referredTopics': ['ccast', 'voice-clarity'],\n  'messageText': ' hate ccast its voice-clarity is OMG:('},\n {'chirpId': '11',\n  'user': {'screenName': 'NilaMilliron_tw',\n   'lang': 'en',\n   'friendsCount': 445,\n   'statusesCount': 164,\n   'name': 'Nila Milliron',\n   'followersCount': 22649},\n  'senderLocation': '37.59,68.42',\n  'sendTime': '2008-03-09T10:10:00',\n  'referredTopics': ['x-phone', 'platform'],\n  'messageText': \" can't stand x-phone its platform is terrible\"},\n {'chirpId': '12',\n  'user': {'screenName': 'OliJackson_512',\n   'lang': 'en',\n   'friendsCount': 445,\n   'statusesCount': 164,\n   'name': 'Oli Jackson',\n   'followersCount': 22649},\n  'senderLocation': '24.82,94.63',\n  'sendTime': '2010-02-13T10:10:00',\n  'referredTopics': ['product-y', 'voice-command'],\n  'messageText': ' like product-y the voice-command is amazing:)'}]"
     },
     "execution_count": 114,
     "metadata": {},
     "output_type": "execute_result"
    }
   ],
   "source": [
    "chripMessage"
   ],
   "metadata": {
    "collapsed": false,
    "ExecuteTime": {
     "end_time": "2023-09-05T01:13:13.935672Z",
     "start_time": "2023-09-05T01:13:13.873833Z"
    }
   },
   "id": "f693644a12c60290"
  },
  {
   "cell_type": "code",
   "execution_count": null,
   "outputs": [],
   "source": [],
   "metadata": {
    "collapsed": false
   },
   "id": "9e2269e0331ee71"
  }
 ],
 "metadata": {
  "kernelspec": {
   "display_name": "Python 3",
   "language": "python",
   "name": "python3"
  },
  "language_info": {
   "codemirror_mode": {
    "name": "ipython",
    "version": 2
   },
   "file_extension": ".py",
   "mimetype": "text/x-python",
   "name": "python",
   "nbconvert_exporter": "python",
   "pygments_lexer": "ipython2",
   "version": "2.7.6"
  }
 },
 "nbformat": 4,
 "nbformat_minor": 5
}
